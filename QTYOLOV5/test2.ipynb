{
 "metadata": {
  "language_info": {
   "codemirror_mode": {
    "name": "ipython",
    "version": 3
   },
   "file_extension": ".py",
   "mimetype": "text/x-python",
   "name": "python",
   "nbconvert_exporter": "python",
   "pygments_lexer": "ipython3",
   "version": "3.7.10"
  },
  "orig_nbformat": 2,
  "kernelspec": {
   "name": "python3710jvsc74a57bd05cd356d9d319cbb08e9b1723200460a4e39c52797a2014399dcb0d87c719e22f",
   "display_name": "Python 3.7.10 64-bit ('yolo5': conda)"
  },
  "metadata": {
   "interpreter": {
    "hash": "5cd356d9d319cbb08e9b1723200460a4e39c52797a2014399dcb0d87c719e22f"
   }
  }
 },
 "nbformat": 4,
 "nbformat_minor": 2,
 "cells": [
  {
   "cell_type": "code",
   "execution_count": 1,
   "metadata": {},
   "outputs": [
    {
     "output_type": "execute_result",
     "data": {
      "text/plain": [
       "['d:\\\\FileStorage\\\\Code\\\\Pycharm Project\\\\QTYOLOV5',\n",
       " 'c:\\\\Users\\\\fxjy\\\\.vscode\\\\extensions\\\\ms-toolsai.jupyter-2021.5.745244803\\\\pythonFiles',\n",
       " 'c:\\\\Users\\\\fxjy\\\\.vscode\\\\extensions\\\\ms-toolsai.jupyter-2021.5.745244803\\\\pythonFiles\\\\lib\\\\python',\n",
       " 'C:\\\\Users\\\\fxjy\\\\anaconda3\\\\envs\\\\yolo5\\\\python37.zip',\n",
       " 'C:\\\\Users\\\\fxjy\\\\anaconda3\\\\envs\\\\yolo5\\\\DLLs',\n",
       " 'C:\\\\Users\\\\fxjy\\\\anaconda3\\\\envs\\\\yolo5\\\\lib',\n",
       " 'C:\\\\Users\\\\fxjy\\\\anaconda3\\\\envs\\\\yolo5',\n",
       " '',\n",
       " 'C:\\\\Users\\\\fxjy\\\\anaconda3\\\\envs\\\\yolo5\\\\lib\\\\site-packages',\n",
       " 'C:\\\\Users\\\\fxjy\\\\anaconda3\\\\envs\\\\yolo5\\\\lib\\\\site-packages\\\\win32',\n",
       " 'C:\\\\Users\\\\fxjy\\\\anaconda3\\\\envs\\\\yolo5\\\\lib\\\\site-packages\\\\win32\\\\lib',\n",
       " 'C:\\\\Users\\\\fxjy\\\\anaconda3\\\\envs\\\\yolo5\\\\lib\\\\site-packages\\\\Pythonwin',\n",
       " 'C:\\\\Users\\\\fxjy\\\\anaconda3\\\\envs\\\\yolo5\\\\lib\\\\site-packages\\\\IPython\\\\extensions',\n",
       " 'C:\\\\Users\\\\fxjy\\\\.ipython']"
      ]
     },
     "metadata": {},
     "execution_count": 1
    }
   ],
   "source": [
    "import sys\n",
    "sys.path"
   ]
  }
 ]
}